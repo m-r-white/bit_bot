{
 "cells": [
  {
   "cell_type": "code",
   "execution_count": 1,
   "metadata": {},
   "outputs": [],
   "source": [
    "from tkinter import *\n",
    "from tkinter import ttk\n",
    "import pandas as pd\n",
    "import numpy as np"
   ]
  },
  {
   "cell_type": "markdown",
   "metadata": {},
   "source": [
    "What do I want to do?\n",
    "\n",
    "open file\n",
    "read last lines (#?)\n",
    "print:\n",
    "change (up or down) in social media total with price per coin"
   ]
  },
  {
   "cell_type": "code",
   "execution_count": null,
   "metadata": {},
   "outputs": [],
   "source": [
    "root = Tk()\n",
    "root.title('Bitprophet')\n",
    "mainframe = ttk.Frame(root, padding='3 3 12 12')\n",
    "mainframe.grid(column=0, row=0, sticky=(N, W, E, S))\n",
    "mainframe.columnconfigure(0, weight=1)\n",
    "mainframe.rowconfigure(0, weight=1)"
   ]
  },
  {
   "cell_type": "code",
   "execution_count": null,
   "metadata": {},
   "outputs": [],
   "source": [
    "from tkinter import *\n",
    "from tkinter import ttk\n",
    "\n",
    "def calculate(*args):\n",
    "    try:\n",
    "        value = float(feet.get())\n",
    "        meters.set((0.3048 * value * 10000.0 + 0.5)/10000.0)\n",
    "    except ValueError:\n",
    "        pass\n",
    "    \n",
    "root = Tk()\n",
    "root.title(\"Feet to Meters\")\n",
    "\n",
    "mainframe = ttk.Frame(root, padding=\"3 3 12 12\")\n",
    "mainframe.grid(column=0, row=0, sticky=(N, W, E, S))\n",
    "mainframe.columnconfigure(0, weight=1)\n",
    "mainframe.rowconfigure(0, weight=1)\n",
    "\n",
    "feet = StringVar()\n",
    "meters = StringVar()\n",
    "\n",
    "feet_entry = ttk.Entry(mainframe, width=7, textvariable=feet)\n",
    "feet_entry.grid(column=2, row=1, sticky=(W, E))\n",
    "\n",
    "ttk.Label(mainframe, textvariable=meters).grid(column=2, row=2, sticky=(W, E))\n",
    "ttk.Button(mainframe, text=\"Calculate\", command=calculate).grid(column=3, row=3, sticky=W)\n",
    "\n",
    "ttk.Label(mainframe, text=\"feet\").grid(column=3, row=1, sticky=W)\n",
    "ttk.Label(mainframe, text=\"is equivalent to\").grid(column=1, row=2, sticky=E)\n",
    "ttk.Label(mainframe, text=\"meters\").grid(column=3, row=2, sticky=W)\n",
    "\n",
    "for child in mainframe.winfo_children(): child.grid_configure(padx=5, pady=5)\n",
    "\n",
    "feet_entry.focus()\n",
    "root.bind('<Return>', calculate)\n",
    "\n",
    "root.mainloop()"
   ]
  },
  {
   "cell_type": "code",
   "execution_count": null,
   "metadata": {},
   "outputs": [],
   "source": [
    "import time\n",
    "import tkinter as tk\n",
    "\n",
    "root = tk.Tk()\n",
    "# width --> width in chars, height --> lines of text\n",
    "text_width = 20\n",
    "text = tk.Text(root, width=text_width, height=1, bg='yellow')\n",
    "text.pack()\n",
    "# use a proportional font to handle spaces correctly\n",
    "text.config(font=('courier', 72, 'bold'))\n",
    "s1 = df1.iloc[-1]['BTC_Price']\n",
    "s2 = \"     \" + df1.iloc[-1]['BTC_Total'].astype(str)\n",
    "s3 = \"\"\n",
    "s4 = \"\"\n",
    "# pad front and end of text with spaces\n",
    "s5 = ' ' * text_width\n",
    "# concatenate it all\n",
    "s = s5 + s1 + s2 + s3 + s4 + s5\n",
    "for k in range(len(s)):\n",
    "    # use string slicing to do the trick\n",
    "    ticker_text = s[k:k+text_width]\n",
    "    text.insert(\"1.1\", ticker_text)\n",
    "    root.update()\n",
    "    # delay by 0.22 seconds\n",
    "    time.sleep(0.22)\n",
    "root.mainloop()"
   ]
  },
  {
   "cell_type": "code",
   "execution_count": null,
   "metadata": {},
   "outputs": [],
   "source": [
    "ls"
   ]
  },
  {
   "cell_type": "code",
   "execution_count": null,
   "metadata": {},
   "outputs": [],
   "source": [
    "df1 = pd.read_csv('./output/crypto-ticker.csv')"
   ]
  },
  {
   "cell_type": "code",
   "execution_count": null,
   "metadata": {},
   "outputs": [],
   "source": [
    "print(df1.iloc[-1])"
   ]
  },
  {
   "cell_type": "code",
   "execution_count": null,
   "metadata": {},
   "outputs": [],
   "source": [
    "df1 = pd.read_csv('./output/crypto-ticker.csv')\n",
    "\n",
    "last_price = df1.iloc[-2]['BTC_Price']\n",
    "current_price = df1.iloc[-1]['BTC_Price']\n",
    "if last_price > current_price:\n",
    "    p1='up'\n",
    "else:\n",
    "    p1='down'\n",
    "    \n",
    "last_score = df1.iloc[-2]['BTC_Total']\n",
    "current_score = df1.iloc[-1]['BTC_Total']\n",
    "if last_score > current_score:\n",
    "    s1='up'\n",
    "else:\n",
    "    s1='down'\n",
    "    \n",
    "print(s1, p1)"
   ]
  },
  {
   "cell_type": "code",
   "execution_count": null,
   "metadata": {},
   "outputs": [],
   "source": [
    "last_score = df1.iloc[-2]['BTC_Total']\n",
    "current_score = df1.iloc[-1]['BTC_Total']\n",
    "if last_score > current_score:\n",
    "    s1='up'\n",
    "else:\n",
    "    s1='down'\n",
    "print(s1)"
   ]
  },
  {
   "cell_type": "code",
   "execution_count": null,
   "metadata": {},
   "outputs": [],
   "source": [
    "last_price = df1.iloc[-2]['BTC_Price']\n",
    "current_price = df1.iloc[-1]['BTC_Price']"
   ]
  },
  {
   "cell_type": "code",
   "execution_count": null,
   "metadata": {},
   "outputs": [],
   "source": [
    "if last_price > current_price:\n",
    "    s1='up'\n",
    "else:\n",
    "    s1='down'"
   ]
  },
  {
   "cell_type": "code",
   "execution_count": null,
   "metadata": {},
   "outputs": [],
   "source": [
    "print(s1)"
   ]
  },
  {
   "cell_type": "code",
   "execution_count": null,
   "metadata": {},
   "outputs": [],
   "source": [
    "print(last_price, current_price)"
   ]
  },
  {
   "cell_type": "code",
   "execution_count": null,
   "metadata": {},
   "outputs": [],
   "source": [
    "print(df1.iloc[-1]['BTC_Total'])"
   ]
  },
  {
   "cell_type": "code",
   "execution_count": null,
   "metadata": {},
   "outputs": [],
   "source": [
    "df1.BTC_Total"
   ]
  },
  {
   "cell_type": "code",
   "execution_count": 8,
   "metadata": {},
   "outputs": [],
   "source": [
    "import matplotlib.pyplot as plt"
   ]
  },
  {
   "cell_type": "code",
   "execution_count": 9,
   "metadata": {},
   "outputs": [],
   "source": [
    "df1 = pd.read_csv('./output/crypto-ticker.csv')"
   ]
  },
  {
   "cell_type": "code",
   "execution_count": 10,
   "metadata": {},
   "outputs": [
    {
     "data": {
      "text/plain": [
       "'2018_0225_162702'"
      ]
     },
     "execution_count": 10,
     "metadata": {},
     "output_type": "execute_result"
    }
   ],
   "source": [
    "df1.iloc[-1]['time']"
   ]
  },
  {
   "cell_type": "code",
   "execution_count": 18,
   "metadata": {},
   "outputs": [],
   "source": [
    "df1['BTC_score_change'] = df1['BTC_Total'].diff().abs()\n",
    "df1['BTC_social_ma200'] = df1['BTC_Total'].diff()"
   ]
  },
  {
   "cell_type": "code",
   "execution_count": 16,
   "metadata": {},
   "outputs": [
    {
     "data": {
      "text/plain": [
       "0          NaN\n",
       "1        0.000\n",
       "2        0.000\n",
       "3        0.000\n",
       "4        0.000\n",
       "5        0.000\n",
       "6        0.000\n",
       "7        0.000\n",
       "8        0.000\n",
       "9        0.000\n",
       "10       0.000\n",
       "11       0.000\n",
       "12       0.000\n",
       "13       0.000\n",
       "14       0.000\n",
       "15       0.000\n",
       "16       0.000\n",
       "17       0.000\n",
       "18       0.000\n",
       "19       0.000\n",
       "20       0.000\n",
       "21       0.000\n",
       "22       0.000\n",
       "23       0.000\n",
       "24       0.000\n",
       "25       0.000\n",
       "26       0.000\n",
       "27       0.000\n",
       "28       0.000\n",
       "29       0.000\n",
       "         ...  \n",
       "11377    0.000\n",
       "11378    0.000\n",
       "11379    0.000\n",
       "11380    0.000\n",
       "11381    0.000\n",
       "11382    0.000\n",
       "11383    0.000\n",
       "11384    0.000\n",
       "11385    0.000\n",
       "11386    0.000\n",
       "11387    0.000\n",
       "11388    0.000\n",
       "11389    0.000\n",
       "11390    0.000\n",
       "11391    0.000\n",
       "11392    0.000\n",
       "11393    0.000\n",
       "11394    0.000\n",
       "11395    0.000\n",
       "11396    0.000\n",
       "11397    0.000\n",
       "11398    0.000\n",
       "11399    0.000\n",
       "11400    0.000\n",
       "11401    0.000\n",
       "11402    0.000\n",
       "11403    0.000\n",
       "11404    0.000\n",
       "11405    0.175\n",
       "11406    0.000\n",
       "Name: BTC_social_ma200, dtype: float64"
      ]
     },
     "execution_count": 16,
     "metadata": {},
     "output_type": "execute_result"
    }
   ],
   "source": [
    "df1['BTC_social_ma200']"
   ]
  },
  {
   "cell_type": "code",
   "execution_count": 15,
   "metadata": {},
   "outputs": [
    {
     "name": "stderr",
     "output_type": "stream",
     "text": [
      "/home/marc/anaconda3/envs/catalyst/lib/python3.6/site-packages/matplotlib/pyplot.py:3261: RuntimeWarning: Second argument 'y2' is ambiguous: could be a color spec but is in data. Using as data.\n",
      "Either rename the entry in data or use three arguments to plot.\n",
      "  ret = ax.plot(*args, **kwargs)\n"
     ]
    },
    {
     "data": {
      "text/plain": [
       "<matplotlib.legend.Legend at 0x7f37c2bfd8d0>"
      ]
     },
     "execution_count": 15,
     "metadata": {},
     "output_type": "execute_result"
    },
    {
     "data": {
      "image/png": "[encoded data removed]",
      "text/plain": [
       "<matplotlib.figure.Figure at 0x7f37c16b7860>"
      ]
     },
     "metadata": {},
     "output_type": "display_data"
    }
   ],
   "source": [
    "timescale = 200\n",
    "#size\n",
    "plt.figure(figsize=(18,12))\n",
    "# Data\n",
    "df=pd.DataFrame({'x': df1['time'].tail(timescale),\n",
    "                 'y2': df1['BTC_social_ma200'].tail(timescale)})\n",
    "# multiple line plot\n",
    "#plt.plot( 'x', 'y1', data=df, marker='o', markerfacecolor='blue', markersize=12, color='skyblue', linewidth=4, label=\"btc_price\")\n",
    "plt.plot( 'x', 'y2', data=df, marker='', color='olive', linewidth=2)\n",
    "#plt.plot( 'x', 'y3', data=df, marker='', color='olive', linewidth=2, linestyle='dashed', label=\"social_media\")\n",
    "plt.yscale('log')\n",
    "plt.legend()"
   ]
  },
  {
   "cell_type": "code",
   "execution_count": 14,
   "metadata": {},
   "outputs": [
    {
     "name": "stderr",
     "output_type": "stream",
     "text": [
      "/home/marc/anaconda3/envs/catalyst/lib/python3.6/site-packages/matplotlib/pyplot.py:3261: RuntimeWarning: Second argument 'y1' is ambiguous: could be a color spec but is in data. Using as data.\n",
      "Either rename the entry in data or use three arguments to plot.\n",
      "  ret = ax.plot(*args, **kwargs)\n",
      "/home/marc/anaconda3/envs/catalyst/lib/python3.6/site-packages/matplotlib/pyplot.py:3261: RuntimeWarning: Second argument 'y3' is ambiguous: could be a color spec but is in data. Using as data.\n",
      "Either rename the entry in data or use three arguments to plot.\n",
      "  ret = ax.plot(*args, **kwargs)\n"
     ]
    },
    {
     "data": {
      "text/plain": [
       "<matplotlib.legend.Legend at 0x7f37c1009630>"
      ]
     },
     "execution_count": 14,
     "metadata": {},
     "output_type": "execute_result"
    },
    {
     "data": {
      "image/png": "[encoded data removed]",
      "text/plain": [
       "<matplotlib.figure.Figure at 0x7f37c11fb630>"
      ]
     },
     "metadata": {},
     "output_type": "display_data"
    }
   ],
   "source": [
    "timescale = 200\n",
    "#size\n",
    "plt.figure(figsize=(18,12))\n",
    "# Data\n",
    "df=pd.DataFrame({'x': df1['time'].tail(timescale),\n",
    "                 'y1': df1['BTC_Price'].tail(timescale),\n",
    "                 'y1': df1['BTC_social_ma200'].tail(timescale),\n",
    "                 'y3': df1['BTC_score_change'].tail(timescale)})\n",
    "# multiple line plot\n",
    "plt.plot( 'x', 'y1', data=df, marker='o', markerfacecolor='blue', markersize=12, color='skyblue', linewidth=4, label=\"btc_price\")\n",
    "plt.plot( 'x', 'y2', data=df, marker='', color='olive', linewidth=2)\n",
    "plt.plot( 'x', 'y3', data=df, marker='', color='olive', linewidth=2, linestyle='dashed', label=\"social_media\")\n",
    "plt.yscale('log')\n",
    "plt.legend()"
   ]
  },
  {
   "cell_type": "code",
   "execution_count": null,
   "metadata": {},
   "outputs": [],
   "source": [
    "plt.figure(figsize=(5,2))\n",
    "tail = 500\n",
    "x = df1['time'].tail(tail)\n",
    "y1 = df1['BTC_score_change'].tail(tail)\n",
    "y2 = df1['BTC_Price'].tail(tail)\n",
    "plt.plot(x, y1, y2)\n",
    "plt.show()"
   ]
  },
  {
   "cell_type": "code",
   "execution_count": null,
   "metadata": {},
   "outputs": [],
   "source": [
    "plt.plot(df1['BTC_Total'].tail(2000))\n",
    "fig = plt.figure(figsize=(8, 20))"
   ]
  },
  {
   "cell_type": "code",
   "execution_count": null,
   "metadata": {},
   "outputs": [],
   "source": [
    "plt.plot(df1['BTC_score_change'].tail(2000))"
   ]
  },
  {
   "cell_type": "code",
   "execution_count": null,
   "metadata": {},
   "outputs": [],
   "source": [
    "plt.plot(df1['BTC_Price'].tail(8000))"
   ]
  },
  {
   "cell_type": "code",
   "execution_count": null,
   "metadata": {},
   "outputs": [],
   "source": [
    "plt.plot(df1.LTC_Price)"
   ]
  },
  {
   "cell_type": "code",
   "execution_count": null,
   "metadata": {},
   "outputs": [],
   "source": [
    "df1.BTC_Total.min()"
   ]
  },
  {
   "cell_type": "code",
   "execution_count": null,
   "metadata": {},
   "outputs": [],
   "source": [
    "df1.set_value()"
   ]
  },
  {
   "cell_type": "code",
   "execution_count": null,
   "metadata": {},
   "outputs": [],
   "source": [
    "df1.index.max()"
   ]
  },
  {
   "cell_type": "code",
   "execution_count": null,
   "metadata": {},
   "outputs": [],
   "source": [
    "df2 = pd.read_csv('./crypto-ticker008.csv')"
   ]
  },
  {
   "cell_type": "code",
   "execution_count": null,
   "metadata": {},
   "outputs": [],
   "source": [
    "df2['BTC_score_change'] = df2['BTC_Total'].diff()"
   ]
  },
  {
   "cell_type": "code",
   "execution_count": null,
   "metadata": {},
   "outputs": [],
   "source": [
    "plt.plot(df2['BTC_Total'])"
   ]
  },
  {
   "cell_type": "code",
   "execution_count": null,
   "metadata": {},
   "outputs": [],
   "source": [
    "plt.plot(df1['BTC_score_change'])"
   ]
  },
  {
   "cell_type": "code",
   "execution_count": null,
   "metadata": {},
   "outputs": [],
   "source": [
    "plt.plot(df2['BTC_Price'])"
   ]
  },
  {
   "cell_type": "code",
   "execution_count": null,
   "metadata": {},
   "outputs": [],
   "source": [
    "plt.bar(df1['BTC_score_change'].value_counts())"
   ]
  },
  {
   "cell_type": "code",
   "execution_count": null,
   "metadata": {},
   "outputs": [],
   "source": []
  }
 ],
 "metadata": {
  "kernelspec": {
   "display_name": "Python 3",
   "language": "python",
   "name": "python3"
  },
  "language_info": {
   "codemirror_mode": {
    "name": "ipython",
    "version": 3
   },
   "file_extension": ".py",
   "mimetype": "text/x-python",
   "name": "python",
   "nbconvert_exporter": "python",
   "pygments_lexer": "ipython3",
   "version": "3.6.4"
  }
 },
 "nbformat": 4,
 "nbformat_minor": 2
}
